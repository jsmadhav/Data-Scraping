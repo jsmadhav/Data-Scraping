{
 "cells": [
  {
   "cell_type": "code",
   "execution_count": 1,
   "metadata": {},
   "outputs": [
    {
     "name": "stdout",
     "output_type": "stream",
     "text": [
      "                                                 Title  Price  Rating  \\\n",
      "0    Samsung Galaxy A10 (Black, 2GB RAM, 32GB Storage)   7990     4.3   \n",
      "1     Samsung Galaxy A10 (Blue, 2GB RAM, 32GB Storage)   7990     4.3   \n",
      "2     Samsung Galaxy A10 (Gold, 2GB RAM, 32GB Storage)   8499     4.3   \n",
      "3      Samsung Galaxy A10 (Red, 2GB RAM, 32GB Storage)   8499     4.3   \n",
      "4    Samsung Galaxy A10s (Black, 2GB RAM, 32GB Stor...  10056     4.4   \n",
      "..                                                 ...    ...     ...   \n",
      "440  Samsung Grand Prime (White, 1GB RAM, 8GB Storage)   7992     4.0   \n",
      "441  Samsung Grand Prime 4G (Gold, 1GB RAM, 8GB Sto...   7899     4.0   \n",
      "442  Samsung Grand Prime 4G (White, 1GB RAM, 8GB St...   8250     4.0   \n",
      "443      Samsung J7 Max (Black, 4GB RAM, 32GB Storage)  19995     4.3   \n",
      "444       Samsung J7 Max (Gold, 4GB RAM, 32GB Storage)  16000     4.3   \n",
      "\n",
      "     No of Ratings                    OS   RAM    ROM Battery Power Rating  \\\n",
      "0          12640.0       Android Pie 9.0  2 GB  32 GB                 3400   \n",
      "1          12640.0       Android Pie 9.0  2 GB  32 GB                 3400   \n",
      "2          12640.0         Android Pie 9  2 GB  32 GB                 3400   \n",
      "3          12640.0       Android Pie 9.0  2 GB  32 GB                 3400   \n",
      "4           1617.0         Android Pie 9  2 GB  32 GB                 4000   \n",
      "..             ...                   ...   ...    ...                  ...   \n",
      "440            NaN    Android KitKat 4.4  1 GB   8 GB                 2600   \n",
      "441            NaN  Android Lollipop 5.1  1 GB   8 GB                 2600   \n",
      "442            NaN  Android Lollipop 5.1  1 GB   8 GB                 2600   \n",
      "443            NaN      Android Nougat 7  4 GB  32 GB                  NaN   \n",
      "444            NaN      Android Nougat 7  4 GB  32 GB                  NaN   \n",
      "\n",
      "            Display Size  Display Type              Processor Type  \\\n",
      "0    15.75 cm (6.2 inch)  Mali G71 MP2                 Exynos 7884   \n",
      "1    15.75 cm (6.2 inch)           NaN                 Exynos 7884   \n",
      "2    15.75 cm (6.2 inch)           NaN                 Exynos 7884   \n",
      "3    15.75 cm (6.2 inch)  Mali G71 MP2                 Exynos 7884   \n",
      "4    15.75 cm (6.2 inch)           NaN             MediaTek MT6762   \n",
      "..                   ...           ...                         ...   \n",
      "440     12.7 cm (5 inch)           NaN                   Quad Core   \n",
      "441     12.7 cm (5 inch)           TFT                   Dual Core   \n",
      "442     12.7 cm (5 inch)           TFT                   Quad Core   \n",
      "443  14.48 cm (5.7 inch)           TFT  Mediatek Octa-Core 1.69GHz   \n",
      "444  14.48 cm (5.7 inch)   PLS TFT LCD  Mediatek Octa-Core 1.69GHz   \n",
      "\n",
      "    Rear Camera  No of rear Camera Front Camera Colour  \n",
      "0         13MP                 1.0         5MP   Black  \n",
      "1         13MP                 1.0         5MP    Blue  \n",
      "2         13MP                 1.0         5MP    Gold  \n",
      "3         13MP                 1.0         5MP     Red  \n",
      "4    13MP + 2MP                2.0    5MP(F2.0)  Black  \n",
      "..          ...                ...          ...    ...  \n",
      "440        8MP                 1.0         5MP   White  \n",
      "441        8MP                 1.0          NaN   Gold  \n",
      "442        8MP                 1.0         5MP   White  \n",
      "443       13MP                 1.0        13MP   Black  \n",
      "444       13MP                 1.0        13MP    Gold  \n",
      "\n",
      "[445 rows x 15 columns]\n"
     ]
    }
   ],
   "source": [
    "import pandas as pd\n",
    "df = pd.read_excel(r\"C:\\Users\\madha\\PycharmProjects\\model\\Data.xlsx\")\n",
    "print(df)\n"
   ]
  },
  {
   "cell_type": "code",
   "execution_count": null,
   "metadata": {},
   "outputs": [],
   "source": [
    "#b = df.columns=['Title','Price','Rating','Colour','RAM','ROM','Battery Power Rating','Display Size','Display Type','Rear Camera','No of rear Camera','Front Camera','OS','Processor Type','No of Ratings']\n",
    "#b"
   ]
  },
  {
   "cell_type": "code",
   "execution_count": null,
   "metadata": {},
   "outputs": [],
   "source": [
    "#y = df[df.columns[0:12]]\n",
    "#y\n",
    "#w = y[df[\"Battery Power Rating\"] == 4000]\n"
   ]
  },
  {
   "cell_type": "code",
   "execution_count": 5,
   "metadata": {},
   "outputs": [
    {
     "name": "stdout",
     "output_type": "stream",
     "text": [
      "What is the price: 40000\n",
      "40000\n",
      "Ratings: 4.2\n",
      "4.2\n",
      "Memory128 GB\n",
      "128 GB\n",
      "Ram Required: 4 GB\n",
      "4 GB\n",
      "Which colour ur looking: Aura Glow\n",
      "Aura Glow\n"
     ]
    }
   ],
   "source": [
    "PRICE = int(input(\"What is the price: \"))\n",
    "print(PRICE)\n",
    "RATING = float(input(\"Ratings: \"))\n",
    "print(RATING)\n",
    "ROM = str(input(\"Memory\"))\n",
    "print(ROM)\n",
    "RAM = str(input(\"Ram Required: \"))\n",
    "print(RAM)\n",
    "COLOUR = str(input(\"Which colour ur looking: \"))\n",
    "print(COLOUR)"
   ]
  },
  {
   "cell_type": "code",
   "execution_count": 6,
   "metadata": {},
   "outputs": [
    {
     "name": "stdout",
     "output_type": "stream",
     "text": [
      "                                                 Title  Price  Rating  \\\n",
      "285  Samsung Galaxy Note 10 (Aura Glow, 8GB RAM, 25...  73600     4.5   \n",
      "323  Samsung Galaxy Note10 Lite (Aura Glow, 6GB RAM...  41999     5.0   \n",
      "\n",
      "     No of Ratings             OS   RAM     ROM Battery Power Rating  \\\n",
      "285            NaN  Android Pie 9  8 GB  256 GB                  NaN   \n",
      "323            1.0     Android 10  6 GB  128 GB                 4500   \n",
      "\n",
      "            Display Size Display Type Processor Type  \\\n",
      "285   16.0 cm (6.3 inch)          NaN      Octa Core   \n",
      "323  17.02 cm (6.7 inch)          NaN    Exynos 9810   \n",
      "\n",
      "                            Rear Camera  No of rear Camera Front Camera  \\\n",
      "285  12MP (Dual Aperture) + 12MP + 16MP                4.0        10MP    \n",
      "323                  12MP + 12MP + 12MP                3.0        32MP    \n",
      "\n",
      "        Colour  \n",
      "285  Aura Glow  \n",
      "323  Aura Glow  \n"
     ]
    },
    {
     "name": "stderr",
     "output_type": "stream",
     "text": [
      "E:\\Users\\madha\\Anaconda3\\lib\\site-packages\\ipykernel_launcher.py:4: UserWarning: Boolean Series key will be reindexed to match DataFrame index.\n",
      "  after removing the cwd from sys.path.\n",
      "E:\\Users\\madha\\Anaconda3\\lib\\site-packages\\ipykernel_launcher.py:5: UserWarning: Boolean Series key will be reindexed to match DataFrame index.\n",
      "  \"\"\"\n",
      "E:\\Users\\madha\\Anaconda3\\lib\\site-packages\\ipykernel_launcher.py:6: UserWarning: Boolean Series key will be reindexed to match DataFrame index.\n",
      "  \n",
      "E:\\Users\\madha\\Anaconda3\\lib\\site-packages\\ipykernel_launcher.py:7: UserWarning: Boolean Series key will be reindexed to match DataFrame index.\n",
      "  import sys\n"
     ]
    }
   ],
   "source": [
    "a= df[df.columns[0:15]]\n",
    "\n",
    "b = a[df[\"Price\"] >= PRICE] \n",
    "c = b[df[\"Rating\"] >= RATING]\n",
    "d = c[df['ROM'] >= ROM]\n",
    "e = d[df['RAM'] >= RAM]\n",
    "f = e[df['Colour'] == COLOUR]\n",
    "print(f)"
   ]
  },
  {
   "cell_type": "code",
   "execution_count": null,
   "metadata": {},
   "outputs": [],
   "source": [
    "e= df[df.columns[0:15]]\n",
    "#print(e)\n",
    "a = e[df[\"Price\"] >= 80000] \n",
    "t = a[df[\"Rating\"] > 4.5]\n",
    "o = t[df['ROM'] == \"512 GB\"]\n",
    "n = o[df['Colour'] == 'Aura Glow']\n",
    "\n",
    "print(n)"
   ]
  },
  {
   "cell_type": "code",
   "execution_count": null,
   "metadata": {},
   "outputs": [],
   "source": [
    "q= df[df.columns[0:6]]\n",
    "#print(e)\n",
    "p = q[df[\"RAM\"] > \"4 GB\"] \n",
    "#t = a[df[\"Rating\"] > 4.5]\n",
    "print(p)"
   ]
  },
  {
   "cell_type": "code",
   "execution_count": 1,
   "metadata": {},
   "outputs": [
    {
     "ename": "DefaultCredentialsError",
     "evalue": "Could not automatically determine credentials. Please set GOOGLE_APPLICATION_CREDENTIALS or explicitly create credentials and re-run the application. For more information, please see https://cloud.google.com/docs/authentication/getting-started",
     "output_type": "error",
     "traceback": [
      "\u001b[1;31m---------------------------------------------------------------------------\u001b[0m",
      "\u001b[1;31mDefaultCredentialsError\u001b[0m                   Traceback (most recent call last)",
      "\u001b[1;32m<ipython-input-1-6f9c6d755098>\u001b[0m in \u001b[0;36m<module>\u001b[1;34m\u001b[0m\n\u001b[0;32m      7\u001b[0m \u001b[0mSESSION_ID\u001b[0m \u001b[1;33m=\u001b[0m \u001b[1;34m'current-user-id'\u001b[0m\u001b[1;33m\u001b[0m\u001b[1;33m\u001b[0m\u001b[0m\n\u001b[0;32m      8\u001b[0m \u001b[0mtext_to_be_analyzed\u001b[0m \u001b[1;33m=\u001b[0m \u001b[1;34m\"Hi! I'm David and I'd like to eat some sushi, can you help me?\"\u001b[0m\u001b[1;33m\u001b[0m\u001b[1;33m\u001b[0m\u001b[0m\n\u001b[1;32m----> 9\u001b[1;33m \u001b[0msession_client\u001b[0m \u001b[1;33m=\u001b[0m \u001b[0mdialogflow\u001b[0m\u001b[1;33m.\u001b[0m\u001b[0mSessionsClient\u001b[0m\u001b[1;33m(\u001b[0m\u001b[1;33m)\u001b[0m\u001b[1;33m\u001b[0m\u001b[1;33m\u001b[0m\u001b[0m\n\u001b[0m\u001b[0;32m     10\u001b[0m \u001b[0msession\u001b[0m \u001b[1;33m=\u001b[0m \u001b[0msession_client\u001b[0m\u001b[1;33m.\u001b[0m\u001b[0msession_path\u001b[0m\u001b[1;33m(\u001b[0m\u001b[0mDIALOGFLOW_PROJECT_ID\u001b[0m\u001b[1;33m,\u001b[0m \u001b[0mSESSION_ID\u001b[0m\u001b[1;33m)\u001b[0m\u001b[1;33m\u001b[0m\u001b[1;33m\u001b[0m\u001b[0m\n\u001b[0;32m     11\u001b[0m \u001b[0mtext_input\u001b[0m \u001b[1;33m=\u001b[0m \u001b[0mdialogflow\u001b[0m\u001b[1;33m.\u001b[0m\u001b[0mtypes\u001b[0m\u001b[1;33m.\u001b[0m\u001b[0mTextInput\u001b[0m\u001b[1;33m(\u001b[0m\u001b[0mtext\u001b[0m\u001b[1;33m=\u001b[0m\u001b[0mtext_to_be_analyzed\u001b[0m\u001b[1;33m,\u001b[0m \u001b[0mlanguage_code\u001b[0m\u001b[1;33m=\u001b[0m\u001b[0mDIALOGFLOW_LANGUAGE_CODE\u001b[0m\u001b[1;33m)\u001b[0m\u001b[1;33m\u001b[0m\u001b[1;33m\u001b[0m\u001b[0m\n",
      "\u001b[1;32mE:\\Users\\madha\\Anaconda3\\lib\\site-packages\\dialogflow_v2\\gapic\\sessions_client.py\u001b[0m in \u001b[0;36m__init__\u001b[1;34m(self, transport, channel, credentials, client_config, client_info, client_options)\u001b[0m\n\u001b[0;32m    186\u001b[0m         \u001b[1;32melse\u001b[0m\u001b[1;33m:\u001b[0m\u001b[1;33m\u001b[0m\u001b[1;33m\u001b[0m\u001b[0m\n\u001b[0;32m    187\u001b[0m             self.transport = sessions_grpc_transport.SessionsGrpcTransport(\n\u001b[1;32m--> 188\u001b[1;33m                 \u001b[0maddress\u001b[0m\u001b[1;33m=\u001b[0m\u001b[0mapi_endpoint\u001b[0m\u001b[1;33m,\u001b[0m \u001b[0mchannel\u001b[0m\u001b[1;33m=\u001b[0m\u001b[0mchannel\u001b[0m\u001b[1;33m,\u001b[0m \u001b[0mcredentials\u001b[0m\u001b[1;33m=\u001b[0m\u001b[0mcredentials\u001b[0m\u001b[1;33m\u001b[0m\u001b[1;33m\u001b[0m\u001b[0m\n\u001b[0m\u001b[0;32m    189\u001b[0m             )\n\u001b[0;32m    190\u001b[0m \u001b[1;33m\u001b[0m\u001b[0m\n",
      "\u001b[1;32mE:\\Users\\madha\\Anaconda3\\lib\\site-packages\\dialogflow_v2\\gapic\\transports\\sessions_grpc_transport.py\u001b[0m in \u001b[0;36m__init__\u001b[1;34m(self, channel, credentials, address)\u001b[0m\n\u001b[0;32m     67\u001b[0m                 options={\n\u001b[0;32m     68\u001b[0m                     \u001b[1;34m\"grpc.max_send_message_length\"\u001b[0m\u001b[1;33m:\u001b[0m \u001b[1;33m-\u001b[0m\u001b[1;36m1\u001b[0m\u001b[1;33m,\u001b[0m\u001b[1;33m\u001b[0m\u001b[1;33m\u001b[0m\u001b[0m\n\u001b[1;32m---> 69\u001b[1;33m                     \u001b[1;34m\"grpc.max_receive_message_length\"\u001b[0m\u001b[1;33m:\u001b[0m \u001b[1;33m-\u001b[0m\u001b[1;36m1\u001b[0m\u001b[1;33m,\u001b[0m\u001b[1;33m\u001b[0m\u001b[1;33m\u001b[0m\u001b[0m\n\u001b[0m\u001b[0;32m     70\u001b[0m                 }.items(),\n\u001b[0;32m     71\u001b[0m             )\n",
      "\u001b[1;32mE:\\Users\\madha\\Anaconda3\\lib\\site-packages\\dialogflow_v2\\gapic\\transports\\sessions_grpc_transport.py\u001b[0m in \u001b[0;36mcreate_channel\u001b[1;34m(cls, address, credentials, **kwargs)\u001b[0m\n\u001b[0;32m     97\u001b[0m         \"\"\"\n\u001b[0;32m     98\u001b[0m         return google.api_core.grpc_helpers.create_channel(\n\u001b[1;32m---> 99\u001b[1;33m             \u001b[0maddress\u001b[0m\u001b[1;33m,\u001b[0m \u001b[0mcredentials\u001b[0m\u001b[1;33m=\u001b[0m\u001b[0mcredentials\u001b[0m\u001b[1;33m,\u001b[0m \u001b[0mscopes\u001b[0m\u001b[1;33m=\u001b[0m\u001b[0mcls\u001b[0m\u001b[1;33m.\u001b[0m\u001b[0m_OAUTH_SCOPES\u001b[0m\u001b[1;33m,\u001b[0m \u001b[1;33m**\u001b[0m\u001b[0mkwargs\u001b[0m\u001b[1;33m\u001b[0m\u001b[1;33m\u001b[0m\u001b[0m\n\u001b[0m\u001b[0;32m    100\u001b[0m         )\n\u001b[0;32m    101\u001b[0m \u001b[1;33m\u001b[0m\u001b[0m\n",
      "\u001b[1;32mE:\\Users\\madha\\Anaconda3\\lib\\site-packages\\google\\api_core\\grpc_helpers.py\u001b[0m in \u001b[0;36mcreate_channel\u001b[1;34m(target, credentials, scopes, ssl_credentials, **kwargs)\u001b[0m\n\u001b[0;32m    239\u001b[0m     \"\"\"\n\u001b[0;32m    240\u001b[0m     composite_credentials = _create_composite_credentials(\n\u001b[1;32m--> 241\u001b[1;33m         \u001b[0mcredentials\u001b[0m\u001b[1;33m,\u001b[0m \u001b[0mscopes\u001b[0m\u001b[1;33m,\u001b[0m \u001b[0mssl_credentials\u001b[0m\u001b[1;33m\u001b[0m\u001b[1;33m\u001b[0m\u001b[0m\n\u001b[0m\u001b[0;32m    242\u001b[0m     )\n\u001b[0;32m    243\u001b[0m \u001b[1;33m\u001b[0m\u001b[0m\n",
      "\u001b[1;32mE:\\Users\\madha\\Anaconda3\\lib\\site-packages\\google\\api_core\\grpc_helpers.py\u001b[0m in \u001b[0;36m_create_composite_credentials\u001b[1;34m(credentials, scopes, ssl_credentials)\u001b[0m\n\u001b[0;32m    194\u001b[0m     \"\"\"\n\u001b[0;32m    195\u001b[0m     \u001b[1;32mif\u001b[0m \u001b[0mcredentials\u001b[0m \u001b[1;32mis\u001b[0m \u001b[1;32mNone\u001b[0m\u001b[1;33m:\u001b[0m\u001b[1;33m\u001b[0m\u001b[1;33m\u001b[0m\u001b[0m\n\u001b[1;32m--> 196\u001b[1;33m         \u001b[0mcredentials\u001b[0m\u001b[1;33m,\u001b[0m \u001b[0m_\u001b[0m \u001b[1;33m=\u001b[0m \u001b[0mgoogle\u001b[0m\u001b[1;33m.\u001b[0m\u001b[0mauth\u001b[0m\u001b[1;33m.\u001b[0m\u001b[0mdefault\u001b[0m\u001b[1;33m(\u001b[0m\u001b[0mscopes\u001b[0m\u001b[1;33m=\u001b[0m\u001b[0mscopes\u001b[0m\u001b[1;33m)\u001b[0m\u001b[1;33m\u001b[0m\u001b[1;33m\u001b[0m\u001b[0m\n\u001b[0m\u001b[0;32m    197\u001b[0m     \u001b[1;32melse\u001b[0m\u001b[1;33m:\u001b[0m\u001b[1;33m\u001b[0m\u001b[1;33m\u001b[0m\u001b[0m\n\u001b[0;32m    198\u001b[0m         credentials = google.auth.credentials.with_scopes_if_required(\n",
      "\u001b[1;32mE:\\Users\\madha\\Anaconda3\\lib\\site-packages\\google\\auth\\_default.py\u001b[0m in \u001b[0;36mdefault\u001b[1;34m(scopes, request)\u001b[0m\n\u001b[0;32m    319\u001b[0m             \u001b[1;32mreturn\u001b[0m \u001b[0mcredentials\u001b[0m\u001b[1;33m,\u001b[0m \u001b[0meffective_project_id\u001b[0m\u001b[1;33m\u001b[0m\u001b[1;33m\u001b[0m\u001b[0m\n\u001b[0;32m    320\u001b[0m \u001b[1;33m\u001b[0m\u001b[0m\n\u001b[1;32m--> 321\u001b[1;33m     \u001b[1;32mraise\u001b[0m \u001b[0mexceptions\u001b[0m\u001b[1;33m.\u001b[0m\u001b[0mDefaultCredentialsError\u001b[0m\u001b[1;33m(\u001b[0m\u001b[0m_HELP_MESSAGE\u001b[0m\u001b[1;33m)\u001b[0m\u001b[1;33m\u001b[0m\u001b[1;33m\u001b[0m\u001b[0m\n\u001b[0m",
      "\u001b[1;31mDefaultCredentialsError\u001b[0m: Could not automatically determine credentials. Please set GOOGLE_APPLICATION_CREDENTIALS or explicitly create credentials and re-run the application. For more information, please see https://cloud.google.com/docs/authentication/getting-started"
     ]
    }
   ],
   "source": [
    "import dialogflow\n",
    "from google.api_core.exceptions import InvalidArgument\n",
    "\n",
    "DIALOGFLOW_PROJECT_ID = 'google-project-id'\n",
    "DIALOGFLOW_LANGUAGE_CODE = 'en-US'\n",
    "GOOGLE_APPLICATION_CREDENTIALS = '1234567abcdef.json'\n",
    "SESSION_ID = 'current-user-id'\n",
    "text_to_be_analyzed = \"Hi! I'm David and I'd like to eat some sushi, can you help me?\"\n",
    "session_client = dialogflow.SessionsClient()\n",
    "session = session_client.session_path(DIALOGFLOW_PROJECT_ID, SESSION_ID)\n",
    "text_input = dialogflow.types.TextInput(text=text_to_be_analyzed, language_code=DIALOGFLOW_LANGUAGE_CODE)\n",
    "query_input = dialogflow.types.QueryInput(text=text_input)\n",
    "try:\n",
    "    response = session_client.detect_intent(session=session, query_input=query_input)\n",
    "except InvalidArgument:\n",
    "    raise\n",
    "print(\"Query text:\", response.query_result.query_text)\n",
    "print(\"Detected intent:\", response.query_result.intent.display_name)\n",
    "print(\"Detected intent confidence:\", response.query_result.intent_detection_confidence)\n",
    "print(\"Fulfillment text:\", response.query_result.fulfillment_text)"
   ]
  },
  {
   "cell_type": "code",
   "execution_count": 1,
   "metadata": {},
   "outputs": [
    {
     "name": "stdout",
     "output_type": "stream",
     "text": [
      "                                                 Title  Price  Rating  \\\n",
      "0    Samsung Galaxy A10 (Black, 2GB RAM, 32GB Storage)   7990     4.3   \n",
      "1     Samsung Galaxy A10 (Blue, 2GB RAM, 32GB Storage)   7990     4.3   \n",
      "2     Samsung Galaxy A10 (Gold, 2GB RAM, 32GB Storage)   8499     4.3   \n",
      "3      Samsung Galaxy A10 (Red, 2GB RAM, 32GB Storage)   8499     4.3   \n",
      "4    Samsung Galaxy A10s (Black, 2GB RAM, 32GB Stor...  10056     4.4   \n",
      "..                                                 ...    ...     ...   \n",
      "440  Samsung Grand Prime (White, 1GB RAM, 8GB Storage)   7992     4.0   \n",
      "441  Samsung Grand Prime 4G (Gold, 1GB RAM, 8GB Sto...   7899     4.0   \n",
      "442  Samsung Grand Prime 4G (White, 1GB RAM, 8GB St...   8250     4.0   \n",
      "443      Samsung J7 Max (Black, 4GB RAM, 32GB Storage)  19995     4.3   \n",
      "444       Samsung J7 Max (Gold, 4GB RAM, 32GB Storage)  16000     4.3   \n",
      "\n",
      "     TotalRating                    OS   RAM    ROM          DisplaySize  \\\n",
      "0        12640.0       Android Pie 9.0  2 GB  32 GB  15.75 cm (6.2 inch)   \n",
      "1        12640.0       Android Pie 9.0  2 GB  32 GB  15.75 cm (6.2 inch)   \n",
      "2        12640.0         Android Pie 9  2 GB  32 GB  15.75 cm (6.2 inch)   \n",
      "3        12640.0       Android Pie 9.0  2 GB  32 GB  15.75 cm (6.2 inch)   \n",
      "4         1617.0         Android Pie 9  2 GB  32 GB  15.75 cm (6.2 inch)   \n",
      "..           ...                   ...   ...    ...                  ...   \n",
      "440          NaN    Android KitKat 4.4  1 GB   8 GB     12.7 cm (5 inch)   \n",
      "441          NaN  Android Lollipop 5.1  1 GB   8 GB     12.7 cm (5 inch)   \n",
      "442          NaN  Android Lollipop 5.1  1 GB   8 GB     12.7 cm (5 inch)   \n",
      "443          NaN      Android Nougat 7  4 GB  32 GB  14.48 cm (5.7 inch)   \n",
      "444          NaN      Android Nougat 7  4 GB  32 GB  14.48 cm (5.7 inch)   \n",
      "\n",
      "      DisplayType                   Processor  RearCamera  NoofrearCamera  \\\n",
      "0    Mali G71 MP2                 Exynos 7884       13MP              1.0   \n",
      "1             NaN                 Exynos 7884       13MP              1.0   \n",
      "2             NaN                 Exynos 7884       13MP              1.0   \n",
      "3    Mali G71 MP2                 Exynos 7884       13MP              1.0   \n",
      "4             NaN             MediaTek MT6762  13MP + 2MP             2.0   \n",
      "..            ...                         ...         ...             ...   \n",
      "440           NaN                   Quad Core        8MP              1.0   \n",
      "441           TFT                   Dual Core        8MP              1.0   \n",
      "442           TFT                   Quad Core        8MP              1.0   \n",
      "443           TFT  Mediatek Octa-Core 1.69GHz       13MP              1.0   \n",
      "444   PLS TFT LCD  Mediatek Octa-Core 1.69GHz       13MP              1.0   \n",
      "\n",
      "    FrontCamera Colour  \n",
      "0          5MP   Black  \n",
      "1          5MP    Blue  \n",
      "2          5MP    Gold  \n",
      "3          5MP     Red  \n",
      "4     5MP(F2.0)  Black  \n",
      "..          ...    ...  \n",
      "440        5MP   White  \n",
      "441         NaN   Gold  \n",
      "442        5MP   White  \n",
      "443       13MP   Black  \n",
      "444       13MP    Gold  \n",
      "\n",
      "[445 rows x 14 columns]\n"
     ]
    }
   ],
   "source": [
    "import pandas as pd\n",
    "df = pd.read_excel(r\"C:\\Users\\madha\\PycharmProjects\\model\\Data.xlsx\")\n",
    "print(df)\n"
   ]
  },
  {
   "cell_type": "code",
   "execution_count": 1,
   "metadata": {},
   "outputs": [],
   "source": [
    "#import the library\n",
    "from nltk.chat.util import Chat, reflections"
   ]
  },
  {
   "cell_type": "code",
   "execution_count": 2,
   "metadata": {},
   "outputs": [],
   "source": [
    "paris = [\n",
    "    ['(hi|hello|hey|holla|heyyy)',['hey there','hi there','hayyy']],\n",
    "    ['my name is (.*)', ['hi %1 how can i help you']],\n",
    "    ['(i am looking for samsung mobiles)', ['Great','Super']]\n",
    "    \n",
    "]"
   ]
  },
  {
   "cell_type": "code",
   "execution_count": null,
   "metadata": {},
   "outputs": [
    {
     "name": "stdout",
     "output_type": "stream",
     "text": [
      ">my name is sai\n",
      "hi sai how can i help you\n"
     ]
    }
   ],
   "source": [
    "chat = Chat(paris,reflections)\n",
    "chat.converse()"
   ]
  },
  {
   "cell_type": "code",
   "execution_count": 5,
   "metadata": {
    "scrolled": true
   },
   "outputs": [
    {
     "name": "stdout",
     "output_type": "stream",
     "text": [
      "What is the price: 50000\n",
      "50000\n",
      "Ratings: 4.5\n",
      "4.5\n",
      "Memory128 GB\n",
      "128 GB\n",
      "Ram Required: 4 GB\n",
      "4 GB\n"
     ]
    }
   ],
   "source": [
    "PRICE = int(input(\"What is the price: \"))\n",
    "print(PRICE)\n",
    "RATING = float(input(\"Ratings: \"))\n",
    "print(RATING)\n",
    "ROM = str(input(\"Memory\"))\n",
    "print(ROM)\n",
    "RAM = str(input(\"Ram Required: \"))\n",
    "print(RAM)\n",
    "#COLOUR = str(input(\"Which colour ur looking: \"))\n",
    "#print(COLOUR)"
   ]
  },
  {
   "cell_type": "code",
   "execution_count": 2,
   "metadata": {},
   "outputs": [
    {
     "ename": "NameError",
     "evalue": "name 'df' is not defined",
     "output_type": "error",
     "traceback": [
      "\u001b[1;31m---------------------------------------------------------------------------\u001b[0m",
      "\u001b[1;31mNameError\u001b[0m                                 Traceback (most recent call last)",
      "\u001b[1;32m<ipython-input-2-74e93c705ec0>\u001b[0m in \u001b[0;36m<module>\u001b[1;34m\u001b[0m\n\u001b[1;32m----> 1\u001b[1;33m \u001b[0ma\u001b[0m\u001b[1;33m=\u001b[0m \u001b[0mdf\u001b[0m\u001b[1;33m[\u001b[0m\u001b[0mdf\u001b[0m\u001b[1;33m.\u001b[0m\u001b[0mcolumns\u001b[0m\u001b[1;33m[\u001b[0m\u001b[1;36m0\u001b[0m\u001b[1;33m:\u001b[0m\u001b[1;36m15\u001b[0m\u001b[1;33m]\u001b[0m\u001b[1;33m]\u001b[0m\u001b[1;33m\u001b[0m\u001b[1;33m\u001b[0m\u001b[0m\n\u001b[0m\u001b[0;32m      2\u001b[0m \u001b[1;33m\u001b[0m\u001b[0m\n\u001b[0;32m      3\u001b[0m \u001b[0mb\u001b[0m \u001b[1;33m=\u001b[0m \u001b[0ma\u001b[0m\u001b[1;33m[\u001b[0m\u001b[1;33m(\u001b[0m\u001b[0mdf\u001b[0m\u001b[1;33m[\u001b[0m\u001b[1;34m\"Price\"\u001b[0m\u001b[1;33m]\u001b[0m \u001b[1;33m>=\u001b[0m \u001b[0mPRICE\u001b[0m\u001b[1;33m)\u001b[0m \u001b[1;33m&\u001b[0m \u001b[1;33m(\u001b[0m\u001b[0mdf\u001b[0m\u001b[1;33m[\u001b[0m\u001b[1;34m\"Rating\"\u001b[0m\u001b[1;33m]\u001b[0m \u001b[1;33m>=\u001b[0m \u001b[0mRATING\u001b[0m \u001b[1;33m)\u001b[0m \u001b[1;33m&\u001b[0m \u001b[1;33m(\u001b[0m\u001b[0mdf\u001b[0m\u001b[1;33m[\u001b[0m\u001b[1;34m'ROM'\u001b[0m\u001b[1;33m]\u001b[0m \u001b[1;33m>=\u001b[0m \u001b[0mROM\u001b[0m\u001b[1;33m)\u001b[0m \u001b[1;33m&\u001b[0m \u001b[1;33m(\u001b[0m\u001b[0mdf\u001b[0m\u001b[1;33m[\u001b[0m\u001b[1;34m'RAM'\u001b[0m\u001b[1;33m]\u001b[0m \u001b[1;33m>=\u001b[0m \u001b[0mRAM\u001b[0m\u001b[1;33m)\u001b[0m\u001b[1;33m]\u001b[0m\u001b[1;33m\u001b[0m\u001b[1;33m\u001b[0m\u001b[0m\n\u001b[0;32m      4\u001b[0m \"\"\"\n\u001b[0;32m      5\u001b[0m \u001b[0mc\u001b[0m \u001b[1;33m=\u001b[0m \u001b[0mb\u001b[0m\u001b[1;33m[\u001b[0m\u001b[0mdf\u001b[0m\u001b[1;33m[\u001b[0m\u001b[1;34m\"Rating\"\u001b[0m\u001b[1;33m]\u001b[0m \u001b[1;33m>=\u001b[0m \u001b[0mRATING\u001b[0m\u001b[1;33m]\u001b[0m\u001b[1;33m\u001b[0m\u001b[1;33m\u001b[0m\u001b[0m\n",
      "\u001b[1;31mNameError\u001b[0m: name 'df' is not defined"
     ]
    }
   ],
   "source": [
    "a= df[df.columns[0:15]]\n",
    "\n",
    "b = a[(df[\"Price\"] >= PRICE) & (df[\"Rating\"] >= RATING ) & (df['ROM'] >= ROM) & (df['RAM'] >= RAM)] \n",
    "\"\"\"\n",
    "c = b[df[\"Rating\"] >= RATING]\n",
    "d = c[df['ROM'] >= ROM]\n",
    "e = d[df['RAM'] >= RAM]\n",
    "\"\"\"\n",
    "#f = e[df['Colour'] == COLOUR]\n",
    "print(b)"
   ]
  },
  {
   "cell_type": "code",
   "execution_count": null,
   "metadata": {},
   "outputs": [],
   "source": []
  },
  {
   "cell_type": "code",
   "execution_count": null,
   "metadata": {},
   "outputs": [],
   "source": []
  }
 ],
 "metadata": {
  "kernelspec": {
   "display_name": "Python 3",
   "language": "python",
   "name": "python3"
  },
  "language_info": {
   "codemirror_mode": {
    "name": "ipython",
    "version": 3
   },
   "file_extension": ".py",
   "mimetype": "text/x-python",
   "name": "python",
   "nbconvert_exporter": "python",
   "pygments_lexer": "ipython3",
   "version": "3.7.4"
  }
 },
 "nbformat": 4,
 "nbformat_minor": 2
}
